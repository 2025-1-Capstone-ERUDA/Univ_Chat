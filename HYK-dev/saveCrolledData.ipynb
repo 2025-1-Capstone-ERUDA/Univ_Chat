{
 "cells": [
  {
   "cell_type": "code",
   "execution_count": 4,
   "id": "a389817f-e4a1-4b41-816a-545c92e9f855",
   "metadata": {},
   "outputs": [
    {
     "name": "stdout",
     "output_type": "stream",
     "text": [
      "Requirement already satisfied: pip in c:\\users\\sqple\\myenv\\lib\\site-packages (24.0)\n",
      "Collecting pip\n",
      "  Using cached pip-25.0.1-py3-none-any.whl.metadata (3.7 kB)\n",
      "Using cached pip-25.0.1-py3-none-any.whl (1.8 MB)\n",
      "Installing collected packages: pip\n",
      "  Attempting uninstall: pip\n",
      "    Found existing installation: pip 24.0\n",
      "    Uninstalling pip-24.0:\n",
      "      Successfully uninstalled pip-24.0\n",
      "Successfully installed pip-25.0.1\n",
      "Note: you may need to restart the kernel to use updated packages.\n"
     ]
    }
   ],
   "source": [
    "pip install --upgrade pip"
   ]
  },
  {
   "cell_type": "code",
   "execution_count": 5,
   "id": "a014807b-0d93-4a0e-bf87-be0705fd304f",
   "metadata": {},
   "outputs": [
    {
     "name": "stdout",
     "output_type": "stream",
     "text": [
      "^C\n",
      "Collecting pandas\n",
      "  Downloading pandas-2.2.3-cp312-cp312-win_amd64.whl.metadata (19 kB)\n",
      "Collecting numpy>=1.26.0 (from pandas)\n",
      "  Downloading numpy-2.2.4-cp312-cp312-win_amd64.whl.metadata (60 kB)\n",
      "Requirement already satisfied: python-dateutil>=2.8.2 in c:\\users\\sqple\\myenv\\lib\\site-packages (from pandas) (2.9.0.post0)\n",
      "Collecting pytz>=2020.1 (from pandas)\n",
      "  Using cached pytz-2025.2-py2.py3-none-any.whl.metadata (22 kB)\n",
      "Collecting tzdata>=2022.7 (from pandas)\n",
      "  Using cached tzdata-2025.2-py2.py3-none-any.whl.metadata (1.4 kB)\n",
      "Requirement already satisfied: six>=1.5 in c:\\users\\sqple\\myenv\\lib\\site-packages (from python-dateutil>=2.8.2->pandas) (1.17.0)\n",
      "Downloading pandas-2.2.3-cp312-cp312-win_amd64.whl (11.5 MB)\n",
      "   ---------------------------------------- 0.0/11.5 MB ? eta -:--:--\n",
      "   --------- ------------------------------ 2.6/11.5 MB 12.5 MB/s eta 0:00:01\n",
      "   ----------------- ---------------------- 5.0/11.5 MB 12.6 MB/s eta 0:00:01\n",
      "   -------------------------- ------------- 7.6/11.5 MB 12.4 MB/s eta 0:00:01\n",
      "   ---------------------------------- ----- 10.0/11.5 MB 12.4 MB/s eta 0:00:01\n",
      "   ---------------------------------------- 11.5/11.5 MB 12.0 MB/s eta 0:00:00\n",
      "Downloading numpy-2.2.4-cp312-cp312-win_amd64.whl (12.6 MB)\n",
      "   ---------------------------------------- 0.0/12.6 MB ? eta -:--:--\n",
      "   -------- ------------------------------- 2.6/12.6 MB 12.6 MB/s eta 0:00:01\n",
      "   --------------- ------------------------ 5.0/12.6 MB 12.6 MB/s eta 0:00:01\n",
      "   ------------------------ --------------- 7.9/12.6 MB 12.5 MB/s eta 0:00:01\n",
      "   --------------------------------- ------ 10.5/12.6 MB 12.6 MB/s eta 0:00:01\n",
      "   ---------------------------------------- 12.6/12.6 MB 12.4 MB/s eta 0:00:00\n",
      "Using cached pytz-2025.2-py2.py3-none-any.whl (509 kB)\n",
      "Using cached tzdata-2025.2-py2.py3-none-any.whl (347 kB)\n",
      "Installing collected packages: pytz, tzdata, numpy, pandas\n",
      "Successfully installed numpy-2.2.4 pandas-2.2.3 pytz-2025.2 tzdata-2025.2\n"
     ]
    }
   ],
   "source": [
    "!pip install pandas"
   ]
  },
  {
   "cell_type": "code",
   "execution_count": 6,
   "id": "1c330dd0-dbf6-481d-af16-f04632ce30f6",
   "metadata": {},
   "outputs": [],
   "source": [
    "import pandas as pd\n",
    "from datetime import datetime\n",
    "\n",
    "\n",
    "def create_dataframe(posts: list[dict]) -> pd.DataFrame:\n",
    "    \"\"\"\n",
    "    주어진 게시글 리스트를 DataFrame으로 변환하는 함수\n",
    "    \"\"\"\n",
    "    return pd.DataFrame(posts)\n",
    "\n",
    "def save_dataframe_to_csv(df: pd.DataFrame, date: str, filename_prefix: str = \"posts\") -> None:\n",
    "    \"\"\"\n",
    "    DataFrame을 CSV 파일로 저장하는 함수\n",
    "    파일명에 수집 기준 날짜를 포함함\n",
    "    \"\"\"\n",
    "    formatted_date = datetime.strptime(date, \"%Y.%m.%d\").strftime(\"%Y%m%d\")\n",
    "    filename = f\"{filename_prefix}_{formatted_date}.csv\"\n",
    "    df.to_csv(filename, index=False, encoding=\"utf-8-sig\")\n",
    "    print(f\"CSV 파일 저장 완료: {filename}\")\n",
    "\n",
    "\n",
    "def add_post(list_of_post: list[dict], post: dict) -> None:\n",
    "    \"\"\"\n",
    "    새로운 게시글을 리스트에 추가하는 함수\n",
    "    \"\"\"\n",
    "    list_of_post.append(post)\n"
   ]
  },
  {
   "cell_type": "code",
   "execution_count": 7,
   "id": "717a5898-ce34-4c4a-9800-516b2729cc11",
   "metadata": {},
   "outputs": [
    {
     "name": "stdout",
     "output_type": "stream",
     "text": [
      "CSV 파일 저장 완료: posts_20250403.csv\n"
     ]
    }
   ],
   "source": [
    "# 사용 예시\n",
    "# 이미 있는 post 정보들\n",
    "list_of_post = [\n",
    "    {\"title\": \"컴퓨터공학과 졸업요건 안내\", \"content\": \"본문내용1\", \"date\": \"2025.03.19\"},\n",
    "    {\"title\": \"컴퓨터공학과 조기 졸업 신청\", \"content\": \"본문내용2\", \"date\": \"2025.04.01\"}\n",
    "]\n",
    "\n",
    "#새로운 post가 주어지면\n",
    "new_post = {\"title\": \"새로운 공지사항\", \"content\": \"본문내용3\", \"date\": \"2025.04.02\"}\n",
    "\n",
    "#기존 post에 추가\n",
    "add_post(list_of_post, new_post)\n",
    "\n",
    "#데이터 프레임으로 변환\n",
    "df = create_dataframe(list_of_post)\n",
    "\n",
    "#오늘 날짜를 포함한 제목으로 csv 파일에 저장\n",
    "todayDate = datetime.today().strftime(\"%Y.%m.%d\")\n",
    "save_dataframe_to_csv(df, todayDate)\n"
   ]
  }
 ],
 "metadata": {
  "kernelspec": {
   "display_name": "Python 3.12 (myenv)",
   "language": "python",
   "name": "myenv"
  },
  "language_info": {
   "codemirror_mode": {
    "name": "ipython",
    "version": 3
   },
   "file_extension": ".py",
   "mimetype": "text/x-python",
   "name": "python",
   "nbconvert_exporter": "python",
   "pygments_lexer": "ipython3",
   "version": "3.12.4"
  }
 },
 "nbformat": 4,
 "nbformat_minor": 5
}
